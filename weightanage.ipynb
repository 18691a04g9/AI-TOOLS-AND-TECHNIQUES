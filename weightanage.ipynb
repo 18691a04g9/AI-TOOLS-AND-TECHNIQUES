{
 "cells": [
  {
   "cell_type": "code",
   "execution_count": 12,
   "metadata": {},
   "outputs": [],
   "source": [
    "import numpy as np\n",
    "from matplotlib import pyplot as plt"
   ]
  },
  {
   "cell_type": "code",
   "execution_count": 13,
   "metadata": {},
   "outputs": [
    {
     "data": {
      "image/png": "[encoded data removed]",
      "text/plain": [
       "<Figure size 432x288 with 1 Axes>"
      ]
     },
     "metadata": {
      "needs_background": "light"
     },
     "output_type": "display_data"
    }
   ],
   "source": [
    "x=np.array([5,6,7,8,9,10])\n",
    "y=np.array([18,20,22,25,28,32])\n",
    "plt.scatter(x,y,40,c='r',label='scatter_data',marker='x')\n",
    "plt.xlabel(\"age\")\n",
    "plt.ylabel('weight')\n",
    "plt.title('age_weight_graph')\n",
    "plt.grid(True,color='k')\n",
    "plt.show()"
   ]
  },
  {
   "cell_type": "code",
   "execution_count": 14,
   "metadata": {},
   "outputs": [
    {
     "name": "stdout",
     "output_type": "stream",
     "text": [
      "7.5 24.166666666666668\n"
     ]
    }
   ],
   "source": [
    "# mean values\n",
    "mean_x=np.mean(x)\n",
    "mean_y=np.mean(y)\n",
    "n=len(x)\n",
    "print (mean_x, mean_y)"
   ]
  },
  {
   "cell_type": "code",
   "execution_count": 15,
   "metadata": {},
   "outputs": [
    {
     "name": "stdout",
     "output_type": "stream",
     "text": [
      "2.7714285714285714 3.380952380952383\n"
     ]
    }
   ],
   "source": [
    "# to check value for m and c\n",
    "num=0\n",
    "den=0\n",
    "for i in range(n):\n",
    " num=num+((x[i]-mean_x)*(y[i]-mean_y))\n",
    " den=den+((x[i]-mean_x)**2)\n",
    "m=num/den\n",
    "#c=y-m*x\n",
    "c=mean_y-(m*mean_x)\n",
    "print(m,c)"
   ]
  },
  {
   "cell_type": "code",
   "execution_count": 16,
   "metadata": {},
   "outputs": [
    {
     "name": "stdout",
     "output_type": "stream",
     "text": [
      "[17.23809524 20.00952381 22.78095238 25.55238095 28.32380952 31.0952381 ]\n"
     ]
    }
   ],
   "source": [
    "#calculate y predicate\n",
    "y_pred=np.array([]) #to create empty array\n",
    "for i in range(n):\n",
    " p=(m*x[i])+c #y=mx+C\n",
    " y_pred=np.append(y_pred,np.array([p]),axis=0)\n",
    "\n",
    "print(y_pred)"
   ]
  },
  {
   "cell_type": "code",
   "execution_count": 17,
   "metadata": {},
   "outputs": [
    {
     "data": {
      "text/plain": [
       "36.63809523809523"
      ]
     },
     "execution_count": 17,
     "metadata": {},
     "output_type": "execute_result"
    }
   ],
   "source": [
    "a=12\n",
    "y=m*a+c\n",
    "y"
   ]
  },
  {
   "cell_type": "code",
   "execution_count": 27,
   "metadata": {},
   "outputs": [
    {
     "data": {
      "image/png": "[encoded data removed]",
      "text/plain": [
       "<Figure size 432x288 with 1 Axes>"
      ]
     },
     "metadata": {
      "needs_background": "light"
     },
     "output_type": "display_data"
    }
   ],
   "source": [
    "y=np.array([18,20,22,25,28,32])\n",
    "plt.plot(x,y_pred,color='m',label=\"regression_line\")            #plot the regression line\n",
    "plt.scatter(x,y,40,c='r',label=\"actual_data\",marker='o')        #plot the actual data\n",
    "plt.scatter(x,y_pred,40,c='k',label=\"predicted_data\",marker='x')\n",
    "plt.xlabel(\"age\")\n",
    "plt.ylabel(\"weight\")\n",
    "plt.legend()\n",
    "plt.show()"
   ]
  },
  {
   "cell_type": "code",
   "execution_count": 28,
   "metadata": {},
   "outputs": [
    {
     "data": {
      "text/plain": [
       "0.9823212110666434"
      ]
     },
     "execution_count": 28,
     "metadata": {},
     "output_type": "execute_result"
    }
   ],
   "source": [
    "# how good our fit line or regression line is by using r square method\n",
    "nu=0\n",
    "de=0\n",
    "for i in range(n):\n",
    "    nu=nu+((y_pred[i]-mean_y)**2) #predicted values of y\n",
    "    de=de+((y[i]-mean_y)**2) #actual values of y\n",
    "r2=nu/de\n",
    "r2\n",
    "\n",
    "\n",
    "#r square ranges from 0 to 1 if >0.7. then its good fit line"
   ]
  },
  {
   "cell_type": "code",
   "execution_count": null,
   "metadata": {},
   "outputs": [],
   "source": []
  }
 ],
 "metadata": {
  "kernelspec": {
   "display_name": "Python 3",
   "language": "python",
   "name": "python3"
  },
  "language_info": {
   "codemirror_mode": {
    "name": "ipython",
    "version": 3
   },
   "file_extension": ".py",
   "mimetype": "text/x-python",
   "name": "python",
   "nbconvert_exporter": "python",
   "pygments_lexer": "ipython3",
   "version": "3.8.3"
  }
 },
 "nbformat": 4,
 "nbformat_minor": 4
}
